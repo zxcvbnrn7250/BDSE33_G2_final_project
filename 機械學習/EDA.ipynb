{
 "cells": [
  {
   "cell_type": "markdown",
   "metadata": {},
   "source": [
    "## 目的：利用直方圖檢查變數\n",
    "直方圖會存在 .\\EDA結果"
   ]
  },
  {
   "cell_type": "code",
   "execution_count": 1,
   "metadata": {},
   "outputs": [],
   "source": [
    "import pandas as pd\n",
    "\n",
    "file_path = r\".\\飲料店總表.csv\"\n",
    "\n",
    "dataset = pd.read_csv(file_path, sep=\",\", encoding=\"UTF-8\")\n",
    "# print(dataset.info())\n",
    "# selected_data = dataset.iloc[:, 7:36]\n",
    "# selected_data"
   ]
  },
  {
   "cell_type": "code",
   "execution_count": 2,
   "metadata": {},
   "outputs": [
    {
     "name": "stderr",
     "output_type": "stream",
     "text": [
      "<>:4: SyntaxWarning: invalid escape sequence '\\E'\n",
      "<>:4: SyntaxWarning: invalid escape sequence '\\E'\n",
      "C:\\Users\\student\\AppData\\Local\\Temp\\ipykernel_14756\\1588576200.py:4: SyntaxWarning: invalid escape sequence '\\E'\n",
      "  save_dir = \".\\EDA結果\"\n"
     ]
    }
   ],
   "source": [
    "import os\n",
    "\n",
    "# 設定保存圖片的目錄\n",
    "save_dir = \".\\EDA結果\"\n",
    "os.makedirs(save_dir, exist_ok=True)  # 確保目錄存在，如果不存在則創建它"
   ]
  },
  {
   "cell_type": "code",
   "execution_count": 3,
   "metadata": {},
   "outputs": [],
   "source": [
    "import matplotlib.pyplot as plt\n",
    "import seaborn as sns\n",
    "\n",
    "# 設定繁體中文和正負號\n",
    "plt.rcParams[\"font.sans-serif\"] = [\"Microsoft JhengHei\"]  # 用微軟正黑體顯示中文\n",
    "plt.rcParams[\"axes.unicode_minus\"] = False  # 正常顯示負號\n",
    "\n",
    "# 選擇數據中的數值型欄位進行繪製箱型圖\n",
    "numeric_cols = dataset.select_dtypes(include=[\"float64\", \"int64\"]).columns\n",
    "\n",
    "# 創建一個空字典來存儲每個數值型欄位的統計摘要\n",
    "summary_dict = {}\n",
    "\n",
    "# 計算每個數值型欄位的統計摘要\n",
    "for col in numeric_cols:\n",
    "    summary_dict[col] = dataset[col].describe()\n",
    "\n",
    "# 逐列繪製箱型圖\n",
    "for col in numeric_cols:\n",
    "    plt.figure(figsize=(8, 6))  # 設置圖形大小\n",
    "    sns.boxplot(data=dataset[col])  # 繪製箱型圖\n",
    "    summary_text = \"\\n\".join(\n",
    "        [\n",
    "            f\"數量: {summary_dict[col]['count']}\",\n",
    "            f\"平均值: {summary_dict[col]['mean']:.4f}\",\n",
    "            f\"標準差: {summary_dict[col]['std']:.4f}\",\n",
    "            f\"最小值: {summary_dict[col]['min']}\",\n",
    "            f\"25% 分位數: {summary_dict[col]['25%']}\",\n",
    "            f\"中位數: {summary_dict[col]['50%']}\",\n",
    "            f\"75% 分位數: {summary_dict[col]['75%']}\",\n",
    "            f\"最大值: {summary_dict[col]['max']}\",\n",
    "        ]\n",
    "    )\n",
    "    plt.text(\n",
    "        0.5,\n",
    "        summary_dict[col][\"max\"],\n",
    "        summary_text,\n",
    "        ha=\"center\",\n",
    "        va=\"bottom\",\n",
    "        fontsize=10,\n",
    "        color=\"blue\",\n",
    "    )  # 添加統計摘要文本\n",
    "    plt.title(f\"{col} 箱型圖(Boxplot)\")  # 設置圖標題\n",
    "    plt.xlabel(col)  # 設置X軸標籤\n",
    "    plt.ylabel(\"值\")  # 設置Y軸標籤\n",
    "    plt.xticks(rotation=45)  # 旋轉X軸標籤，以便清晰顯示\n",
    "    plt.grid(True)  # 顯示網格\n",
    "    plt.savefig(os.path.join(save_dir, f\"{col}_箱型圖.png\"))\n",
    "    # plt.show()  # 顯示圖形\n",
    "    plt.close()  # 關閉當前圖形"
   ]
  }
 ],
 "metadata": {
  "kernelspec": {
   "display_name": "Python 3",
   "language": "python",
   "name": "python3"
  },
  "language_info": {
   "codemirror_mode": {
    "name": "ipython",
    "version": 3
   },
   "file_extension": ".py",
   "mimetype": "text/x-python",
   "name": "python",
   "nbconvert_exporter": "python",
   "pygments_lexer": "ipython3",
   "version": "3.12.0"
  }
 },
 "nbformat": 4,
 "nbformat_minor": 2
}
